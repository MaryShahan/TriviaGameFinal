{
 "cells": [
  {
   "cell_type": "code",
   "execution_count": 1,
   "id": "495bcfa9",
   "metadata": {},
   "outputs": [],
   "source": [
    "#pip install import_ipynb"
   ]
  },
  {
   "cell_type": "code",
   "execution_count": 2,
   "id": "5014e463",
   "metadata": {},
   "outputs": [
    {
     "name": "stdout",
     "output_type": "stream",
     "text": [
      "importing Jupyter notebook from FunctionsTrivia.ipynb\n"
     ]
    },
    {
     "name": "stderr",
     "output_type": "stream",
     "text": [
      "qt.qpa.fonts: Populating font family aliases took 264 ms. Replace uses of missing font family \"Shanti\" with one that exists to avoid this cost. \n"
     ]
    },
    {
     "name": "stdout",
     "output_type": "stream",
     "text": [
      "Motherboardis correct\n",
      "Intel 4004is correct\n",
      "print(\"Hello World\")is correct\n"
     ]
    },
    {
     "ename": "SystemExit",
     "evalue": "0",
     "output_type": "error",
     "traceback": [
      "An exception has occurred, use %tb to see the full traceback.\n",
      "\u001b[0;31mSystemExit\u001b[0m\u001b[0;31m:\u001b[0m 0\n"
     ]
    },
    {
     "name": "stderr",
     "output_type": "stream",
     "text": [
      "/opt/homebrew/Cellar/jupyterlab/3.2.5/libexec/lib/python3.9/site-packages/IPython/core/interactiveshell.py:3465: UserWarning: To exit: use 'exit', 'quit', or Ctrl-D.\n",
      "  warn(\"To exit: use 'exit', 'quit', or Ctrl-D.\", stacklevel=1)\n"
     ]
    }
   ],
   "source": [
    "#to import functions inside jupyter notebook\n",
    "import import_ipynb\n",
    "\n",
    "#GUI imports\n",
    "import sys\n",
    "from PyQt5.QtWidgets import QApplication, QLabel, QPushButton, QVBoxLayout, QWidget, QFileDialog, QGridLayout\n",
    "from PyQt5.QtGui import QPixmap\n",
    "from PyQt5 import QtGui, QtCore\n",
    "from PyQt5.QtGui import QCursor\n",
    "#function imports\n",
    "from FunctionsTrivia import frame1, frame2, frame3, frame4, grid\n",
    "\n",
    "#initiallize GUI application\n",
    "app = QApplication(sys.argv)\n",
    "\n",
    "#window and settings\n",
    "window = QWidget()\n",
    "window.setWindowTitle(\"Who wants to be a programmer???\")\n",
    "window.setFixedWidth(1000)\n",
    "#place window in (x,y) coordinates\n",
    "#window.move(2700, 200)\n",
    "window.setStyleSheet(\"background: #161219;\")\n",
    "\n",
    "#try to have a look at all 4 frames\n",
    "#before we start this project as a recap\n",
    "frame1()\n",
    "\n",
    "window.setLayout(grid)\n",
    "\n",
    "window.show()\n",
    "sys.exit(app.exec()) #terminate the app"
   ]
  }
 ],
 "metadata": {
  "kernelspec": {
   "display_name": "Python 3 (ipykernel)",
   "language": "python",
   "name": "python3"
  },
  "language_info": {
   "codemirror_mode": {
    "name": "ipython",
    "version": 3
   },
   "file_extension": ".py",
   "mimetype": "text/x-python",
   "name": "python",
   "nbconvert_exporter": "python",
   "pygments_lexer": "ipython3",
   "version": "3.9.9"
  }
 },
 "nbformat": 4,
 "nbformat_minor": 5
}
